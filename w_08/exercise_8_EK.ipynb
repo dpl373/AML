{
 "cells": [
  {
   "cell_type": "markdown",
   "metadata": {},
   "source": [
    "    Exercise Sheet Week 8    "
   ]
  },
  {
   "cell_type": "code",
   "execution_count": 7,
   "metadata": {},
   "outputs": [],
   "source": [
    "import numpy as np\n",
    "from scipy.stats import norm, gamma"
   ]
  },
  {
   "cell_type": "code",
   "execution_count": 2,
   "metadata": {},
   "outputs": [],
   "source": [
    "np.random.seed(13)"
   ]
  },
  {
   "cell_type": "markdown",
   "metadata": {},
   "source": [
    "# Task 1: Factorized Approximation"
   ]
  },
  {
   "cell_type": "markdown",
   "metadata": {},
   "source": [
    "## 1.a"
   ]
  },
  {
   "cell_type": "code",
   "execution_count": 20,
   "metadata": {},
   "outputs": [],
   "source": [
    "mu, tau = 0, 1\n",
    "n_1 = 20\n",
    "N_1 = np.random.normal(mu,tau**-1,n_1)"
   ]
  },
  {
   "cell_type": "markdown",
   "metadata": {},
   "source": [
    "## 1.b"
   ]
  },
  {
   "cell_type": "code",
   "execution_count": 21,
   "metadata": {},
   "outputs": [],
   "source": [
    "#helper function for q_mu\n",
    "def q_mu(mu, mu_n, lambda_n):\n",
    "    return norm.pdf(mu, loc= mu_n, scale = lambda_n **-1)\n",
    "\n",
    "#helper function for q_tau\n",
    "def q_tau(tau, a_n, b_n):\n",
    "    return gamma.pdf(tau,a = a_n, scale = b_n)"
   ]
  },
  {
   "cell_type": "markdown",
   "metadata": {},
   "source": [
    "## 1.c"
   ]
  },
  {
   "cell_type": "code",
   "execution_count": null,
   "metadata": {},
   "outputs": [],
   "source": [
    "def approx(mu, mu_0, lambda_0, a_0, b_0, maxiter):\n",
    "    num_iters = 0\n",
    "    # initialize initial mu and tau approx based on given values\n",
    "    initial_mu = q_mu(mu, mu_0, lambda_0)\n",
    "    initial_tau = q_tau(tau,a_n=1, b_n=1)\n",
    "    if num_iters < max_iters:\n",
    "        #update mu and lamda_n and\n",
    "        new_mu = \n",
    "        new_lamda = \n",
    "        # update a_n and t_n and\n",
    "        new_a = \n",
    "        new_b = \n",
    "        #update q(mu,tau)\n",
    "        q = q_mu(mu, new_mu, new_lamda) * q_tau(tau, new_a, new_b)\n",
    "        #update number of iterations\n",
    "        iter_ +1 \n",
    "    elif num_iters = max_iters:\n",
    "        return q\n"
   ]
  }
 ],
 "metadata": {
  "kernelspec": {
   "display_name": "py11",
   "language": "python",
   "name": "python3"
  },
  "language_info": {
   "codemirror_mode": {
    "name": "ipython",
    "version": 3
   },
   "file_extension": ".py",
   "mimetype": "text/x-python",
   "name": "python",
   "nbconvert_exporter": "python",
   "pygments_lexer": "ipython3",
   "version": "3.11.5"
  }
 },
 "nbformat": 4,
 "nbformat_minor": 2
}
