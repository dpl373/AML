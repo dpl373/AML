{
 "cells": [
  {
   "cell_type": "markdown",
   "metadata": {},
   "source": [
    "# Task 1"
   ]
  },
  {
   "cell_type": "code",
   "execution_count": 2,
   "metadata": {},
   "outputs": [],
   "source": [
    "import numpy as np\n",
    "import matplotlib.pyplot as plt\n",
    "from scipy.stats import norm, gamma"
   ]
  },
  {
   "cell_type": "code",
   "execution_count": 9,
   "metadata": {},
   "outputs": [],
   "source": [
    "#a random samples\n",
    "def generate_samples (N):\n",
    "    np.random.seed(0)\n",
    "    N = 20\n",
    "    mu_true = 0\n",
    "    tau_true = 1\n",
    "    return np.random.normal(mu_true, 1/np.sqrt(tau_true), N)\n"
   ]
  },
  {
   "cell_type": "code",
   "execution_count": 10,
   "metadata": {},
   "outputs": [],
   "source": [
    "#b helper functions\n",
    "def evaluate_q_mu(mu_N, lambda_N):\n",
    "    return norm.pdf, {'loc': mu_N, 'scale': 1/np.sqrt(lambda_N)}\n",
    "\n",
    "def evaluate_q_tau(a_N, b_N):\n",
    "    return gamma.pdf, {'a': a_N, 'scale': 1/b_N}"
   ]
  },
  {
   "cell_type": "code",
   "execution_count": 22,
   "metadata": {},
   "outputs": [
    {
     "name": "stdout",
     "output_type": "stream",
     "text": [
      "mu = 0.5448630217945399 lambda =  27.918171143016338 a = 11.0 b = 8.23409651889681\n"
     ]
    }
   ],
   "source": [
    "#c implementation\n",
    "\n",
    "def mean_field_inference(num_samples=20, iter_max=50):\n",
    "    X = generate_samples(num_samples)\n",
    "    N = num_samples\n",
    "    mu_N = 0\n",
    "    lambda_N = 1.2\n",
    "    a_N = 1\n",
    "    b_N = 1\n",
    "    for iter in range(1, iter_max + 1):\n",
    "        # Update q_mu\n",
    "        lambda_N = (N * a_N / b_N) + 1.2\n",
    "        mu_N = (sum(X) * a_N / b_N) / lambda_N\n",
    "        \n",
    "        # Update q_tau\n",
    "        a_N = N/2 + 1\n",
    "        b_N = 0.5 * sum((X - mu_N)**2) + 1\n",
    "        \n",
    "        # Stopping condition\n",
    "        if iter == iter_max:\n",
    "            break\n",
    "    \n",
    "    return mu_N, lambda_N, a_N, b_N\n",
    "\n",
    "# Run mean field inference\n",
    "mu_N, lambda_N, a_N, b_N = mean_field_inference()\n",
    "print('mu =', mu_N, 'lambda = ', lambda_N, 'a =', a_N, 'b =', b_N)"
   ]
  },
  {
   "cell_type": "code",
   "execution_count": 21,
   "metadata": {},
   "outputs": [
    {
     "name": "stdout",
     "output_type": "stream",
     "text": [
      "mu = 0.5448630217945399 lambda =  27.918171143016338 a = 11.0 b = 8.23409651889681\n"
     ]
    }
   ],
   "source": [
    "# d. Change iter_max or N and observe results (skipped for brevity)\n",
    "mu_N, lambda_N, a_N, b_N = mean_field_inference(20, 100)\n",
    "print('mu =', mu_N, 'lambda = ', lambda_N, 'a =', a_N, 'b =', b_N)"
   ]
  },
  {
   "cell_type": "code",
   "execution_count": 6,
   "metadata": {},
   "outputs": [
    {
     "data": {
      "image/png": "[encoded data removed]",
      "text/plain": [
       "<Figure size 432x288 with 1 Axes>"
      ]
     },
     "metadata": {
      "needs_background": "light"
     },
     "output_type": "display_data"
    }
   ],
   "source": [
    "# e. Kullback-Leibler Divergence (to be done in task 2)\n",
    "\n",
    "# f. Plotting\n",
    "mu_vals = np.linspace(-2, 2, 100)\n",
    "tau_vals = np.linspace(0.1, 2, 100)\n",
    "mu_mesh, tau_mesh = np.meshgrid(mu_vals, tau_vals)\n",
    "true_posterior = np.zeros(mu_mesh.shape)\n",
    "approx_posterior = np.zeros(mu_mesh.shape)\n",
    "\n",
    "for i in range(mu_vals.size):\n",
    "    for j in range(tau_vals.size):\n",
    "        _, q_mu_params = evaluate_q_mu(mu_N, lambda_N)\n",
    "        _, q_tau_params = evaluate_q_tau(a_N, b_N)\n",
    "        approx_posterior[i, j] = norm.pdf(mu_vals[i], **q_mu_params) * gamma.pdf(tau_vals[j], **q_tau_params)\n",
    "\n",
    "plt.contourf(mu_mesh, tau_mesh, approx_posterior, cmap='viridis')\n",
    "plt.xlabel('μ')\n",
    "plt.ylabel('τ')\n",
    "plt.title('Approximated Posterior')\n",
    "plt.show()\n",
    "\n",
    "# g. Additional stopping criteria can be based on the change in parameters or likelihood (not implemented here)\n"
   ]
  },
  {
   "cell_type": "code",
   "execution_count": null,
   "metadata": {},
   "outputs": [],
   "source": []
  },
  {
   "cell_type": "code",
   "execution_count": null,
   "metadata": {},
   "outputs": [],
   "source": []
  }
 ],
 "metadata": {
  "kernelspec": {
   "display_name": "local-venv-kernel",
   "language": "python",
   "name": "local-venv-kernel"
  },
  "language_info": {
   "codemirror_mode": {
    "name": "ipython",
    "version": 3
   },
   "file_extension": ".py",
   "mimetype": "text/x-python",
   "name": "python",
   "nbconvert_exporter": "python",
   "pygments_lexer": "ipython3",
   "version": "3.9.12"
  },
  "orig_nbformat": 4
 },
 "nbformat": 4,
 "nbformat_minor": 2
}
