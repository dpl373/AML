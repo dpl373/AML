{
 "cells": [
  {
   "cell_type": "markdown",
   "metadata": {},
   "source": [
    "task 1"
   ]
  },
  {
   "cell_type": "markdown",
   "metadata": {},
   "source": [
    "b)\n",
    "- chip \n",
    "    - cosine sim=0.589: intel\n",
    "    - cosine sim=0.519: computer\n",
    "    - cosine sim=0.497: mips\n",
    "- president \n",
    "    - cosine sim=0.546: executive\n",
    "    - cosine sim=0.532: vice\n",
    "    - cosine sim=0.526: bernstein\n",
    "- dog\n",
    "    - cosine sim=0.454: straszheim\n",
    "    - cosine sim=0.452: keating\n",
    "    - cosine sim=0.425: max\n",
    "### Embed Size 250\n",
    "- chip\n",
    "    - cosine sim=0.343: computer\n",
    "    - cosine sim=0.335: microprocessor\n",
    "    - cosine sim=0.334: intel\n",
    "\n",
    "- president\n",
    "    - cosine sim=0.416: n.\n",
    "    - cosine sim=0.378: vice\n",
    "    - cosine sim=0.349: chief\n",
    "- dog\n",
    "    - cosine sim=0.310: afraid\n",
    "    - cosine sim=0.293: sponsor\n",
    "    - cosine sim=0.292: evil"
   ]
  },
  {
   "cell_type": "markdown",
   "metadata": {},
   "source": [
    "c)"
   ]
  },
  {
   "cell_type": "markdown",
   "metadata": {},
   "source": [
    "- small window is fast training\n",
    "- vice versa"
   ]
  },
  {
   "cell_type": "markdown",
   "metadata": {},
   "source": [
    "Task 3"
   ]
  },
  {
   "cell_type": "markdown",
   "metadata": {},
   "source": [
    "a)"
   ]
  },
  {
   "cell_type": "markdown",
   "metadata": {},
   "source": [
    "- load a pre-traied model and training it on a dataset for a down-stream task.\n",
    "- loss 0.196, train acc 0.926, test acc 0.929 lr = 5e-5\n",
    "- loss 0.127, train acc 0.950, test acc 0.945 lr = 4e-5"
   ]
  },
  {
   "cell_type": "markdown",
   "metadata": {},
   "source": [
    "b)"
   ]
  },
  {
   "cell_type": "markdown",
   "metadata": {},
   "source": [
    "- freeze layers (some, all but last, etc.) (bad, good)\n",
    "- learning rate (depends on the model)\n",
    "- regularization (label smoothing, data aug) (robust model, probably longer)"
   ]
  },
  {
   "cell_type": "markdown",
   "metadata": {},
   "source": [
    "4"
   ]
  },
  {
   "cell_type": "markdown",
   "metadata": {},
   "source": [
    "- cosine similarity between their representations should be high\n",
    "- cosine similarity between their representations should be low\n",
    "\n",
    "- comparison to other semi-supervised techniques"
   ]
  },
  {
   "cell_type": "markdown",
   "metadata": {},
   "source": [
    "2"
   ]
  },
  {
   "cell_type": "markdown",
   "metadata": {},
   "source": [
    "- using transform in torch \n",
    "- push it in the dataloader"
   ]
  },
  {
   "cell_type": "markdown",
   "metadata": {},
   "source": [
    "- Random Crop and Resize\n",
    "- Color Jittering\n",
    "- Horizontal Flip\n",
    "- Gaussian Blur\n",
    "- Mosaic Aug (Fun Yolo stuff)\n",
    "- increases computational time\n",
    "- usually resize and normalization transformations are always helpful to a model."
   ]
  },
  {
   "cell_type": "markdown",
   "metadata": {},
   "source": [
    "6"
   ]
  },
  {
   "cell_type": "markdown",
   "metadata": {},
   "source": [
    "b)"
   ]
  },
  {
   "cell_type": "markdown",
   "metadata": {},
   "source": [
    "- normal: \n",
    "    - loss 0.020, 2925.1 tokens/sec on cpu\n",
    "    - go . => va !,  bleu 1.000\n",
    "    i lost . => j'ai perdu .,  bleu 1.000\n",
    "    he's calm . => il est <unk> .,  bleu 0.658\n",
    "    i'm home . => je suis chez moi .,  bleu 1.000"
   ]
  },
  {
   "cell_type": "markdown",
   "metadata": {},
   "source": [
    "- scaled dot product\n",
    "    - loss 0.020, 3116.9 tokens/sec on cpu\n",
    "    - go . => va !,  bleu 1.000\n",
    "i lost . => j'ai perdu .,  bleu 1.000\n",
    "he's calm . => il est mouillã© .,  bleu 0.658\n",
    "i'm home . => je suis chez moi .,  bleu 1.000"
   ]
  }
 ],
 "metadata": {
  "language_info": {
   "name": "python"
  }
 },
 "nbformat": 4,
 "nbformat_minor": 2
}
