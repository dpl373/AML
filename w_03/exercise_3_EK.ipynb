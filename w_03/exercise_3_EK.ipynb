{
 "cells": [
  {
   "cell_type": "markdown",
   "metadata": {},
   "source": [
    "    Exercise Week 3"
   ]
  },
  {
   "cell_type": "code",
   "execution_count": 88,
   "metadata": {},
   "outputs": [],
   "source": [
    "import matplotlib.pyplot as plt\n",
    "import numpy as np\n",
    "import pandas as pd\n",
    "import seaborn as sns"
   ]
  },
  {
   "cell_type": "markdown",
   "metadata": {},
   "source": [
    "# Task 1"
   ]
  },
  {
   "cell_type": "markdown",
   "metadata": {},
   "source": [
    "## 1.a"
   ]
  },
  {
   "cell_type": "code",
   "execution_count": null,
   "metadata": {},
   "outputs": [],
   "source": [
    "# Define the points and their labels\n",
    "points = np.array([[1, 1, 1],   # class 1: x1\n",
    "                   [-1, -1, 1],  # class 1: x2\n",
    "                   [-1, 1, -1],  # class 2: x3\n",
    "                   [1, -1, -1]]) # class 2: x4\n",
    "\n",
    "# Extract coordinates and labels\n",
    "x_1 = points[:, 0]\n",
    "x_2 = points[:, 1]\n",
    "y = points[:, 2]\n",
    "labels = [1, 1, -1, -1]\n",
    "\n",
    "# Create a 3D scatter plot\n",
    "fig = plt.figure()\n",
    "ax = fig.add_subplot(111, projection='3d')\n",
    "\n",
    "# Plot points with different colors for each class\n",
    "class1_indices = [i for i, label in enumerate(labels) if label == 1]\n",
    "class2_indices = [i for i, label in enumerate(labels) if label == -1]\n",
    "\n",
    "class1 = ax.scatter(x_1[class1_indices], x_2[class1_indices], y[class1_indices], c='blue', marker='o', label='Class 1')\n",
    "class2 = ax.scatter(x_2[class2_indices], x_2[class2_indices], y[class2_indices], c='red', marker='^', label='Class 2')\n",
    "\n",
    "# Set labels and legend\n",
    "ax.set_xlabel('x_1 axis')\n",
    "ax.set_ylabel('x_2 axis')\n",
    "ax.set_zlabel('y axis')\n",
    "ax.legend(handles=[class1, class2]);"
   ]
  },
  {
   "cell_type": "markdown",
   "metadata": {},
   "source": [
    "## 1.b"
   ]
  },
  {
   "cell_type": "code",
   "execution_count": null,
   "metadata": {},
   "outputs": [],
   "source": [
    "# Define the 2D points as given\n",
    "x_1 = np.array([1, 1])\n",
    "x_2 = np.array([-1, -1])\n",
    "x_3 = np.array([-1, 1])\n",
    "x_4 = np.array([1, -1])"
   ]
  },
  {
   "cell_type": "code",
   "execution_count": null,
   "metadata": {},
   "outputs": [],
   "source": [
    "# Define the basis function phi(x)\n",
    "def phi(x):\n",
    "    #initialize 6D vector with zeros\n",
    "    phi_x = np.zeros(6)\n",
    "    #compute each of the components\n",
    "    phi_x[0] = 1\n",
    "    phi_x[1] = np.sqrt(2) * x[0]\n",
    "    phi_x[2] = np.sqrt(2) * x[1]\n",
    "    phi_x[3] = np.sqrt(2) * x[0] * x[1]\n",
    "    phi_x[4] = x[0] ** 2\n",
    "    phi_x[5] = x[1] ** 2\n",
    "    return phi_x"
   ]
  },
  {
   "cell_type": "code",
   "execution_count": null,
   "metadata": {},
   "outputs": [],
   "source": [
    "#compute phi for each vector\n",
    "phi_x1 = phi(x_1)\n",
    "phi_x2 = phi(x_2)\n",
    "phi_x3 = phi(x_3)\n",
    "phi_x4 = phi(x_4)"
   ]
  },
  {
   "cell_type": "code",
   "execution_count": null,
   "metadata": {},
   "outputs": [],
   "source": [
    "phi_x1.shape"
   ]
  },
  {
   "cell_type": "markdown",
   "metadata": {},
   "source": [
    "## 1.c"
   ]
  },
  {
   "cell_type": "markdown",
   "metadata": {},
   "source": []
  },
  {
   "cell_type": "markdown",
   "metadata": {},
   "source": [
    "## 1.d"
   ]
  },
  {
   "cell_type": "markdown",
   "metadata": {},
   "source": []
  },
  {
   "cell_type": "markdown",
   "metadata": {},
   "source": [
    "# Task 3"
   ]
  },
  {
   "cell_type": "markdown",
   "metadata": {},
   "source": [
    "## 3.a"
   ]
  },
  {
   "cell_type": "code",
   "execution_count": 12,
   "metadata": {},
   "outputs": [],
   "source": [
    "#reading in data, skipping first 9 rows, dropping Density for now because cannot be converted to float\n",
    "data = pd.read_csv('bodyfat.txt', delimiter='\\s+', skiprows=9).drop(labels = 0, axis = 'index').convert_dtypes(convert_floating=True)#.drop(labels = ['Density', 'Age'], axis = 'columns')\n",
    "data['Density'] = data['Density'].astype(float)\n",
    "data['Age'] = data['Age'].astype(float)\n",
    "#data.dtypes"
   ]
  },
  {
   "cell_type": "markdown",
   "metadata": {},
   "source": [
    "### Step 1: compute sample mean"
   ]
  },
  {
   "cell_type": "code",
   "execution_count": 13,
   "metadata": {},
   "outputs": [],
   "source": [
    "#compute sample mean column-wise\n",
    "mean = data.mean(axis = 0)"
   ]
  },
  {
   "cell_type": "markdown",
   "metadata": {},
   "source": [
    "### Step 2: Sample Covariance Matrix"
   ]
  },
  {
   "cell_type": "code",
   "execution_count": 14,
   "metadata": {},
   "outputs": [],
   "source": [
    "#center data\n",
    "centered_data = data - mean\n",
    "#compute cov matrix using centered data \n",
    "cov_matrix = ((1/(len(centered_data) - 1))*(centered_data.T @ centered_data)).astype(float)"
   ]
  },
  {
   "cell_type": "markdown",
   "metadata": {},
   "source": [
    "### Step 3: Compute Eigenvalues and Eigenvectors"
   ]
  },
  {
   "cell_type": "code",
   "execution_count": 15,
   "metadata": {},
   "outputs": [],
   "source": [
    "#compute eigenvalues and eigenvectors\n",
    "eig_vals, eig_vecs= np.linalg.eig(cov_matrix)"
   ]
  },
  {
   "cell_type": "markdown",
   "metadata": {},
   "source": [
    "### Step 4: Re-order Eigenvalues in decresing order & Eigenvectors correspondingly"
   ]
  },
  {
   "cell_type": "code",
   "execution_count": 16,
   "metadata": {},
   "outputs": [],
   "source": [
    "# Sort eigenvalues and corresponding eigenvectors in descending order\n",
    "# Get the indices that would sort in descending order\n",
    "sorted_indices = np.argsort(eig_vals)[::-1]  #[::-1] reserves the order as usually it's ascending\n",
    "# Sort eigenvalues\n",
    "eig_vals_sorted = eig_vals[sorted_indices]  \n",
    "#sort eigenvecs accordingsly  \n",
    "eig_vecs_sorted = eig_vecs[:, sorted_indices]  "
   ]
  },
  {
   "cell_type": "markdown",
   "metadata": {},
   "source": [
    "### Step 5: Compute U with M=2"
   ]
  },
  {
   "cell_type": "code",
   "execution_count": 44,
   "metadata": {},
   "outputs": [],
   "source": [
    "# M=2, so we extract th etwo biggest eigenvalues/vectors\n",
    "u_1 = eig_vecs_sorted[:,0]\n",
    "u_2 = eig_vecs_sorted[:,1]\n",
    "#contruct M\n",
    "U = np.vstack([u_1, u_2]).T"
   ]
  },
  {
   "cell_type": "markdown",
   "metadata": {},
   "source": [
    "### Step 6: Dimensionality Reduction"
   ]
  },
  {
   "cell_type": "code",
   "execution_count": 75,
   "metadata": {},
   "outputs": [],
   "source": [
    "z = centered_data @ U"
   ]
  },
  {
   "cell_type": "code",
   "execution_count": 76,
   "metadata": {},
   "outputs": [
    {
     "data": {
      "text/plain": [
       "(252, 2)"
      ]
     },
     "execution_count": 76,
     "metadata": {},
     "output_type": "execute_result"
    }
   ],
   "source": [
    "z.shape"
   ]
  },
  {
   "cell_type": "markdown",
   "metadata": {},
   "source": [
    "### Step 7: Create New Datapoint"
   ]
  },
  {
   "cell_type": "code",
   "execution_count": 86,
   "metadata": {},
   "outputs": [
    {
     "ename": "ValueError",
     "evalue": "operands could not be broadcast together with shapes (2,) (15,) ",
     "output_type": "error",
     "traceback": [
      "\u001b[0;31m---------------------------------------------------------------------------\u001b[0m",
      "\u001b[0;31mValueError\u001b[0m                                Traceback (most recent call last)",
      "\u001b[1;32m/Users/emilykruger/Documents/GitHub/AML/w_03/exercise_3_EK.ipynb Cell 32\u001b[0m line \u001b[0;36m6\n\u001b[1;32m      <a href='vscode-notebook-cell:/Users/emilykruger/Documents/GitHub/AML/w_03/exercise_3_EK.ipynb#X64sZmlsZQ%3D%3D?line=3'>4</a>\u001b[0m \u001b[39m#create new data point x\u001b[39;00m\n\u001b[1;32m      <a href='vscode-notebook-cell:/Users/emilykruger/Documents/GitHub/AML/w_03/exercise_3_EK.ipynb#X64sZmlsZQ%3D%3D?line=4'>5</a>\u001b[0m new_mean \u001b[39m=\u001b[39m z\u001b[39m.\u001b[39mmean(axis \u001b[39m=\u001b[39m \u001b[39m0\u001b[39m)\n\u001b[0;32m----> <a href='vscode-notebook-cell:/Users/emilykruger/Documents/GitHub/AML/w_03/exercise_3_EK.ipynb#X64sZmlsZQ%3D%3D?line=5'>6</a>\u001b[0m new_x \u001b[39m=\u001b[39m new_mean \u001b[39m+\u001b[39;49m (alpha_1 \u001b[39m*\u001b[39;49m u_1 \u001b[39m+\u001b[39;49m alpha_2 \u001b[39m*\u001b[39;49m u_2)\n",
      "File \u001b[0;32m~/opt/anaconda3/envs/py11/lib/python3.11/site-packages/pandas/core/ops/common.py:81\u001b[0m, in \u001b[0;36m_unpack_zerodim_and_defer.<locals>.new_method\u001b[0;34m(self, other)\u001b[0m\n\u001b[1;32m     77\u001b[0m             \u001b[39mreturn\u001b[39;00m \u001b[39mNotImplemented\u001b[39m\n\u001b[1;32m     79\u001b[0m other \u001b[39m=\u001b[39m item_from_zerodim(other)\n\u001b[0;32m---> 81\u001b[0m \u001b[39mreturn\u001b[39;00m method(\u001b[39mself\u001b[39;49m, other)\n",
      "File \u001b[0;32m~/opt/anaconda3/envs/py11/lib/python3.11/site-packages/pandas/core/arraylike.py:186\u001b[0m, in \u001b[0;36mOpsMixin.__add__\u001b[0;34m(self, other)\u001b[0m\n\u001b[1;32m     98\u001b[0m \u001b[39m@unpack_zerodim_and_defer\u001b[39m(\u001b[39m\"\u001b[39m\u001b[39m__add__\u001b[39m\u001b[39m\"\u001b[39m)\n\u001b[1;32m     99\u001b[0m \u001b[39mdef\u001b[39;00m \u001b[39m__add__\u001b[39m(\u001b[39mself\u001b[39m, other):\n\u001b[1;32m    100\u001b[0m \u001b[39m    \u001b[39m\u001b[39m\"\"\"\u001b[39;00m\n\u001b[1;32m    101\u001b[0m \u001b[39m    Get Addition of DataFrame and other, column-wise.\u001b[39;00m\n\u001b[1;32m    102\u001b[0m \n\u001b[0;32m   (...)\u001b[0m\n\u001b[1;32m    184\u001b[0m \u001b[39m    moose     3.0     NaN\u001b[39;00m\n\u001b[1;32m    185\u001b[0m \u001b[39m    \"\"\"\u001b[39;00m\n\u001b[0;32m--> 186\u001b[0m     \u001b[39mreturn\u001b[39;00m \u001b[39mself\u001b[39;49m\u001b[39m.\u001b[39;49m_arith_method(other, operator\u001b[39m.\u001b[39;49madd)\n",
      "File \u001b[0;32m~/opt/anaconda3/envs/py11/lib/python3.11/site-packages/pandas/core/series.py:6112\u001b[0m, in \u001b[0;36mSeries._arith_method\u001b[0;34m(self, other, op)\u001b[0m\n\u001b[1;32m   6110\u001b[0m \u001b[39mdef\u001b[39;00m \u001b[39m_arith_method\u001b[39m(\u001b[39mself\u001b[39m, other, op):\n\u001b[1;32m   6111\u001b[0m     \u001b[39mself\u001b[39m, other \u001b[39m=\u001b[39m ops\u001b[39m.\u001b[39malign_method_SERIES(\u001b[39mself\u001b[39m, other)\n\u001b[0;32m-> 6112\u001b[0m     \u001b[39mreturn\u001b[39;00m base\u001b[39m.\u001b[39;49mIndexOpsMixin\u001b[39m.\u001b[39;49m_arith_method(\u001b[39mself\u001b[39;49m, other, op)\n",
      "File \u001b[0;32m~/opt/anaconda3/envs/py11/lib/python3.11/site-packages/pandas/core/base.py:1348\u001b[0m, in \u001b[0;36mIndexOpsMixin._arith_method\u001b[0;34m(self, other, op)\u001b[0m\n\u001b[1;32m   1345\u001b[0m rvalues \u001b[39m=\u001b[39m ensure_wrapped_if_datetimelike(rvalues)\n\u001b[1;32m   1347\u001b[0m \u001b[39mwith\u001b[39;00m np\u001b[39m.\u001b[39merrstate(\u001b[39mall\u001b[39m\u001b[39m=\u001b[39m\u001b[39m\"\u001b[39m\u001b[39mignore\u001b[39m\u001b[39m\"\u001b[39m):\n\u001b[0;32m-> 1348\u001b[0m     result \u001b[39m=\u001b[39m ops\u001b[39m.\u001b[39;49marithmetic_op(lvalues, rvalues, op)\n\u001b[1;32m   1350\u001b[0m \u001b[39mreturn\u001b[39;00m \u001b[39mself\u001b[39m\u001b[39m.\u001b[39m_construct_result(result, name\u001b[39m=\u001b[39mres_name)\n",
      "File \u001b[0;32m~/opt/anaconda3/envs/py11/lib/python3.11/site-packages/pandas/core/ops/array_ops.py:232\u001b[0m, in \u001b[0;36marithmetic_op\u001b[0;34m(left, right, op)\u001b[0m\n\u001b[1;32m    228\u001b[0m     _bool_arith_check(op, left, right)\n\u001b[1;32m    230\u001b[0m     \u001b[39m# error: Argument 1 to \"_na_arithmetic_op\" has incompatible type\u001b[39;00m\n\u001b[1;32m    231\u001b[0m     \u001b[39m# \"Union[ExtensionArray, ndarray[Any, Any]]\"; expected \"ndarray[Any, Any]\"\u001b[39;00m\n\u001b[0;32m--> 232\u001b[0m     res_values \u001b[39m=\u001b[39m _na_arithmetic_op(left, right, op)  \u001b[39m# type: ignore[arg-type]\u001b[39;00m\n\u001b[1;32m    234\u001b[0m \u001b[39mreturn\u001b[39;00m res_values\n",
      "File \u001b[0;32m~/opt/anaconda3/envs/py11/lib/python3.11/site-packages/pandas/core/ops/array_ops.py:171\u001b[0m, in \u001b[0;36m_na_arithmetic_op\u001b[0;34m(left, right, op, is_cmp)\u001b[0m\n\u001b[1;32m    168\u001b[0m     func \u001b[39m=\u001b[39m partial(expressions\u001b[39m.\u001b[39mevaluate, op)\n\u001b[1;32m    170\u001b[0m \u001b[39mtry\u001b[39;00m:\n\u001b[0;32m--> 171\u001b[0m     result \u001b[39m=\u001b[39m func(left, right)\n\u001b[1;32m    172\u001b[0m \u001b[39mexcept\u001b[39;00m \u001b[39mTypeError\u001b[39;00m:\n\u001b[1;32m    173\u001b[0m     \u001b[39mif\u001b[39;00m \u001b[39mnot\u001b[39;00m is_cmp \u001b[39mand\u001b[39;00m (is_object_dtype(left\u001b[39m.\u001b[39mdtype) \u001b[39mor\u001b[39;00m is_object_dtype(right)):\n\u001b[1;32m    174\u001b[0m         \u001b[39m# For object dtype, fallback to a masked operation (only operating\u001b[39;00m\n\u001b[1;32m    175\u001b[0m         \u001b[39m#  on the non-missing values)\u001b[39;00m\n\u001b[1;32m    176\u001b[0m         \u001b[39m# Don't do this for comparisons, as that will handle complex numbers\u001b[39;00m\n\u001b[1;32m    177\u001b[0m         \u001b[39m#  incorrectly, see GH#32047\u001b[39;00m\n",
      "File \u001b[0;32m~/opt/anaconda3/envs/py11/lib/python3.11/site-packages/pandas/core/computation/expressions.py:239\u001b[0m, in \u001b[0;36mevaluate\u001b[0;34m(op, a, b, use_numexpr)\u001b[0m\n\u001b[1;32m    236\u001b[0m \u001b[39mif\u001b[39;00m op_str \u001b[39mis\u001b[39;00m \u001b[39mnot\u001b[39;00m \u001b[39mNone\u001b[39;00m:\n\u001b[1;32m    237\u001b[0m     \u001b[39mif\u001b[39;00m use_numexpr:\n\u001b[1;32m    238\u001b[0m         \u001b[39m# error: \"None\" not callable\u001b[39;00m\n\u001b[0;32m--> 239\u001b[0m         \u001b[39mreturn\u001b[39;00m _evaluate(op, op_str, a, b)  \u001b[39m# type: ignore[misc]\u001b[39;00m\n\u001b[1;32m    240\u001b[0m \u001b[39mreturn\u001b[39;00m _evaluate_standard(op, op_str, a, b)\n",
      "File \u001b[0;32m~/opt/anaconda3/envs/py11/lib/python3.11/site-packages/pandas/core/computation/expressions.py:70\u001b[0m, in \u001b[0;36m_evaluate_standard\u001b[0;34m(op, op_str, a, b)\u001b[0m\n\u001b[1;32m     68\u001b[0m \u001b[39mif\u001b[39;00m _TEST_MODE:\n\u001b[1;32m     69\u001b[0m     _store_test_result(\u001b[39mFalse\u001b[39;00m)\n\u001b[0;32m---> 70\u001b[0m \u001b[39mreturn\u001b[39;00m op(a, b)\n",
      "\u001b[0;31mValueError\u001b[0m: operands could not be broadcast together with shapes (2,) (15,) "
     ]
    }
   ],
   "source": [
    "#pick random a_1 and a_2\n",
    "alpha_1 = np.random.uniform(-3* np.sqrt(eig_vals_sorted[0]),3* np.sqrt(eig_vals_sorted[0]), size = 1)\n",
    "alpha_2 = np.random.uniform(-3* np.sqrt(eig_vals_sorted[1]),3* np.sqrt(eig_vals_sorted[1]), size = 1)\n",
    "#create new data point x\n",
    "new_mean = z.mean(axis = 0)\n",
    "new_x = new_mean + (alpha_1 * u_1 + alpha_2 * u_2)"
   ]
  },
  {
   "cell_type": "markdown",
   "metadata": {},
   "source": [
    "### Step 8: Plot resulting 2D datapoints"
   ]
  },
  {
   "cell_type": "code",
   "execution_count": 99,
   "metadata": {},
   "outputs": [
    {
     "data": {
      "image/png": "[encoded data removed]",
      "text/plain": [
       "<Figure size 640x480 with 1 Axes>"
      ]
     },
     "metadata": {},
     "output_type": "display_data"
    }
   ],
   "source": [
    "sns.scatterplot(x= z.iloc[:,0], y = z.iloc[:,1]);"
   ]
  },
  {
   "cell_type": "markdown",
   "metadata": {},
   "source": [
    "## 3b"
   ]
  },
  {
   "cell_type": "markdown",
   "metadata": {},
   "source": [
    "## 3c"
   ]
  },
  {
   "cell_type": "markdown",
   "metadata": {},
   "source": []
  }
 ],
 "metadata": {
  "kernelspec": {
   "display_name": "py11",
   "language": "python",
   "name": "python3"
  },
  "language_info": {
   "codemirror_mode": {
    "name": "ipython",
    "version": 3
   },
   "file_extension": ".py",
   "mimetype": "text/x-python",
   "name": "python",
   "nbconvert_exporter": "python",
   "pygments_lexer": "ipython3",
   "version": "3.11.4"
  },
  "orig_nbformat": 4
 },
 "nbformat": 4,
 "nbformat_minor": 2
}
