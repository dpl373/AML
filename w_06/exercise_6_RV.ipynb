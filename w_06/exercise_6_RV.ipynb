{
 "cells": [
  {
   "cell_type": "markdown",
   "metadata": {},
   "source": [
    "1"
   ]
  },
  {
   "cell_type": "markdown",
   "metadata": {},
   "source": [
    "- indices are generated for tokens and sorted based on frequency\n",
    "- [ukn] and reserved tokens are indexed to 0\n",
    "- The number of time steps, \"T,\" is a crucial parameter when working with RNNs. It determines how much historical context the RNN can capture."
   ]
  },
  {
   "cell_type": "markdown",
   "metadata": {},
   "source": [
    "- increase training time and stability\n",
    "- simplifies the model design and ensures that the model can handle any element from the input data\n",
    "- determines the length of sequences the RNN can handle\n",
    "\n",
    "- more efficient training, bad adaptation to new data\n",
    "- viceversa\n"
   ]
  },
  {
   "cell_type": "markdown",
   "metadata": {},
   "source": [
    "- the hidden states are initialized. Commonly, they are initialized with all zeros. \n",
    "- to learn from previous inputs\n",
    "- non_RNNs don't have that cause they don't do that.\n"
   ]
  },
  {
   "cell_type": "markdown",
   "metadata": {},
   "source": [
    "- good for long term info stuff, language\n",
    "- good for non long term stuff, videos"
   ]
  },
  {
   "cell_type": "markdown",
   "metadata": {},
   "source": [
    "- expected hidden states : perplexity 1.0, 15211.1 tokens/sec on cpu\n",
    "- change: perplexity 1.1, 12836.5 tokens/sec on cpu"
   ]
  },
  {
   "cell_type": "markdown",
   "metadata": {},
   "source": [
    "- no clipping: perplexity 132989638268310011904.0, 12922.7 tokens/sec on cpu, unstable training\n",
    "- 120 num_steps: perplexity 4.7, 14681.5 tokens/sec on cpu \n",
    "- 15  num_steps: perplexity 1.5, 17057.3 tokens/sec on cpu"
   ]
  },
  {
   "cell_type": "markdown",
   "metadata": {},
   "source": [
    "2"
   ]
  },
  {
   "cell_type": "markdown",
   "metadata": {},
   "source": [
    "-  loss: 0.3217 - accuracy: 0.8543 - LSTM - 5 epochs (64 Units big)\n",
    "-  loss: 0.4147 - accuracy: 0.8100  - Simple RNN Model (16 Units smol)\n",
    "- loss: 0.3389 - accuracy: 0.8507  - GRU Model (16 Units smol)"
   ]
  },
  {
   "cell_type": "markdown",
   "metadata": {},
   "source": [
    "- Simple RNN ran 6 times faster than LSTM \n",
    "- GRU RNN ran 4.1 times faster than LSTM "
   ]
  },
  {
   "cell_type": "markdown",
   "metadata": {},
   "source": [
    "- Probably all models have not converged (Lack of computational resources)\n",
    "- GRU performed better on accuracy in runtime considerations \n"
   ]
  }
 ],
 "metadata": {
  "language_info": {
   "name": "python"
  },
  "orig_nbformat": 4
 },
 "nbformat": 4,
 "nbformat_minor": 2
}
