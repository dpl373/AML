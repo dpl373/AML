{
 "cells": [
  {
   "cell_type": "code",
   "execution_count": 1,
   "metadata": {},
   "outputs": [],
   "source": [
    "import numpy as np"
   ]
  },
  {
   "cell_type": "markdown",
   "metadata": {},
   "source": [
    "### d"
   ]
  },
  {
   "cell_type": "code",
   "execution_count": 8,
   "metadata": {},
   "outputs": [],
   "source": [
    "#hidden states Q\n",
    "hidden = ['F', 'L']\n",
    "\n",
    "#transition matrix A\n",
    "A = np.array([[0.95, 0.05], [0.1, 0.9]])\n",
    "\n",
    "#observed states O\n",
    "observed = [1, 2, 3, 4, 5, 6]\n",
    "\n",
    "#emission matrix B\n",
    "B = np.array([[1/6, 1/6, 1/6, 1/6, 1/6, 1/6], [0.1, 0.1, 0.1, 0.1, 0.1, 0.5]])"
   ]
  },
  {
   "cell_type": "code",
   "execution_count": 16,
   "metadata": {},
   "outputs": [
    {
     "data": {
      "text/plain": [
       "0.0020891203703703697"
      ]
     },
     "execution_count": 16,
     "metadata": {},
     "output_type": "execute_result"
    }
   ],
   "source": [
    "O = [1, 6, 6]\n",
    "Q = ['F', 'F', 'F']\n",
    "pi = [0.5, 0.5]\n",
    "\n",
    "def HMM_probability (O, Q, pi):\n",
    "    probs = 1\n",
    "    for i in reversed(range(len(O))):\n",
    "        prob_o = B[hidden.index(Q[i])][observed.index(O[i])]\n",
    "        probs *= prob_o\n",
    "        if i > 0:\n",
    "            prob_q = A[hidden.index(Q[i-1])][hidden.index(Q[i])]\n",
    "            probs *= prob_q\n",
    "        if i == 0:\n",
    "            prob_q = pi[hidden.index(Q[i])]\n",
    "            probs *= prob_q\n",
    "    return probs\n",
    "\n",
    "HMM_probability(O, Q, pi)"
   ]
  },
  {
   "cell_type": "markdown",
   "metadata": {},
   "source": []
  },
  {
   "cell_type": "markdown",
   "metadata": {},
   "source": [
    "### e"
   ]
  },
  {
   "cell_type": "code",
   "execution_count": 25,
   "metadata": {},
   "outputs": [
    {
     "ename": "IndexError",
     "evalue": "list index out of range",
     "output_type": "error",
     "traceback": [
      "\u001b[0;31m---------------------------------------------------------------------------\u001b[0m",
      "\u001b[0;31mIndexError\u001b[0m                                Traceback (most recent call last)",
      "\u001b[1;32m/Users/aleksygalkowski/Documents/Projects/ucph/social-data-science/2023 sem 3/aml-itu/github-repo/AML-1/w_06/exercise_6_AG_task_4.ipynb Cell 6\u001b[0m line \u001b[0;36m<cell line: 10>\u001b[0;34m()\u001b[0m\n\u001b[1;32m      <a href='vscode-notebook-cell:/Users/aleksygalkowski/Documents/Projects/ucph/social-data-science/2023%20sem%203/aml-itu/github-repo/AML-1/w_06/exercise_6_AG_task_4.ipynb#W3sZmlsZQ%3D%3D?line=6'>7</a>\u001b[0m             alphas\u001b[39m.\u001b[39mappend([\u001b[39msum\u001b[39m([alphas[i\u001b[39m-\u001b[39m\u001b[39m1\u001b[39m][x] \u001b[39m*\u001b[39m A[x][y] \u001b[39mfor\u001b[39;00m x \u001b[39min\u001b[39;00m \u001b[39mrange\u001b[39m(\u001b[39mlen\u001b[39m(hidden))]) \u001b[39m*\u001b[39m B[y][observed\u001b[39m.\u001b[39mindex(o)] \u001b[39mfor\u001b[39;00m y \u001b[39min\u001b[39;00m \u001b[39mrange\u001b[39m(\u001b[39mlen\u001b[39m(hidden))])\n\u001b[1;32m      <a href='vscode-notebook-cell:/Users/aleksygalkowski/Documents/Projects/ucph/social-data-science/2023%20sem%203/aml-itu/github-repo/AML-1/w_06/exercise_6_AG_task_4.ipynb#W3sZmlsZQ%3D%3D?line=7'>8</a>\u001b[0m     \u001b[39mreturn\u001b[39;00m \u001b[39msum\u001b[39m(alphas[\u001b[39m-\u001b[39m\u001b[39m1\u001b[39m])\n\u001b[0;32m---> <a href='vscode-notebook-cell:/Users/aleksygalkowski/Documents/Projects/ucph/social-data-science/2023%20sem%203/aml-itu/github-repo/AML-1/w_06/exercise_6_AG_task_4.ipynb#W3sZmlsZQ%3D%3D?line=9'>10</a>\u001b[0m HMM_forward_algorithm(O, pi)\n",
      "\u001b[1;32m/Users/aleksygalkowski/Documents/Projects/ucph/social-data-science/2023 sem 3/aml-itu/github-repo/AML-1/w_06/exercise_6_AG_task_4.ipynb Cell 6\u001b[0m line \u001b[0;36mHMM_forward_algorithm\u001b[0;34m(O, pi)\u001b[0m\n\u001b[1;32m      <a href='vscode-notebook-cell:/Users/aleksygalkowski/Documents/Projects/ucph/social-data-science/2023%20sem%203/aml-itu/github-repo/AML-1/w_06/exercise_6_AG_task_4.ipynb#W3sZmlsZQ%3D%3D?line=4'>5</a>\u001b[0m         alphas\u001b[39m.\u001b[39mappend([pi[x] \u001b[39m*\u001b[39m B[x][observed\u001b[39m.\u001b[39mindex(o)] \u001b[39mfor\u001b[39;00m x \u001b[39min\u001b[39;00m \u001b[39mrange\u001b[39m(\u001b[39mlen\u001b[39m(hidden))])\n\u001b[1;32m      <a href='vscode-notebook-cell:/Users/aleksygalkowski/Documents/Projects/ucph/social-data-science/2023%20sem%203/aml-itu/github-repo/AML-1/w_06/exercise_6_AG_task_4.ipynb#W3sZmlsZQ%3D%3D?line=5'>6</a>\u001b[0m     \u001b[39melse\u001b[39;00m:\n\u001b[0;32m----> <a href='vscode-notebook-cell:/Users/aleksygalkowski/Documents/Projects/ucph/social-data-science/2023%20sem%203/aml-itu/github-repo/AML-1/w_06/exercise_6_AG_task_4.ipynb#W3sZmlsZQ%3D%3D?line=6'>7</a>\u001b[0m         alphas\u001b[39m.\u001b[39mappend([\u001b[39msum\u001b[39m([alphas[i\u001b[39m-\u001b[39m\u001b[39m1\u001b[39m][x] \u001b[39m*\u001b[39m A[x][y] \u001b[39mfor\u001b[39;00m x \u001b[39min\u001b[39;00m \u001b[39mrange\u001b[39m(\u001b[39mlen\u001b[39m(hidden))]) \u001b[39m*\u001b[39m B[y][observed\u001b[39m.\u001b[39mindex(o)] \u001b[39mfor\u001b[39;00m y \u001b[39min\u001b[39;00m \u001b[39mrange\u001b[39m(\u001b[39mlen\u001b[39m(hidden))])\n\u001b[1;32m      <a href='vscode-notebook-cell:/Users/aleksygalkowski/Documents/Projects/ucph/social-data-science/2023%20sem%203/aml-itu/github-repo/AML-1/w_06/exercise_6_AG_task_4.ipynb#W3sZmlsZQ%3D%3D?line=7'>8</a>\u001b[0m \u001b[39mreturn\u001b[39;00m \u001b[39msum\u001b[39m(alphas[\u001b[39m-\u001b[39m\u001b[39m1\u001b[39m])\n",
      "\u001b[1;32m/Users/aleksygalkowski/Documents/Projects/ucph/social-data-science/2023 sem 3/aml-itu/github-repo/AML-1/w_06/exercise_6_AG_task_4.ipynb Cell 6\u001b[0m line \u001b[0;36m<listcomp>\u001b[0;34m(.0)\u001b[0m\n\u001b[1;32m      <a href='vscode-notebook-cell:/Users/aleksygalkowski/Documents/Projects/ucph/social-data-science/2023%20sem%203/aml-itu/github-repo/AML-1/w_06/exercise_6_AG_task_4.ipynb#W3sZmlsZQ%3D%3D?line=4'>5</a>\u001b[0m         alphas\u001b[39m.\u001b[39mappend([pi[x] \u001b[39m*\u001b[39m B[x][observed\u001b[39m.\u001b[39mindex(o)] \u001b[39mfor\u001b[39;00m x \u001b[39min\u001b[39;00m \u001b[39mrange\u001b[39m(\u001b[39mlen\u001b[39m(hidden))])\n\u001b[1;32m      <a href='vscode-notebook-cell:/Users/aleksygalkowski/Documents/Projects/ucph/social-data-science/2023%20sem%203/aml-itu/github-repo/AML-1/w_06/exercise_6_AG_task_4.ipynb#W3sZmlsZQ%3D%3D?line=5'>6</a>\u001b[0m     \u001b[39melse\u001b[39;00m:\n\u001b[0;32m----> <a href='vscode-notebook-cell:/Users/aleksygalkowski/Documents/Projects/ucph/social-data-science/2023%20sem%203/aml-itu/github-repo/AML-1/w_06/exercise_6_AG_task_4.ipynb#W3sZmlsZQ%3D%3D?line=6'>7</a>\u001b[0m         alphas\u001b[39m.\u001b[39mappend([\u001b[39msum\u001b[39m([alphas[i\u001b[39m-\u001b[39m\u001b[39m1\u001b[39m][x] \u001b[39m*\u001b[39m A[x][y] \u001b[39mfor\u001b[39;00m x \u001b[39min\u001b[39;00m \u001b[39mrange\u001b[39m(\u001b[39mlen\u001b[39m(hidden))]) \u001b[39m*\u001b[39m B[y][observed\u001b[39m.\u001b[39mindex(o)] \u001b[39mfor\u001b[39;00m y \u001b[39min\u001b[39;00m \u001b[39mrange\u001b[39m(\u001b[39mlen\u001b[39m(hidden))])\n\u001b[1;32m      <a href='vscode-notebook-cell:/Users/aleksygalkowski/Documents/Projects/ucph/social-data-science/2023%20sem%203/aml-itu/github-repo/AML-1/w_06/exercise_6_AG_task_4.ipynb#W3sZmlsZQ%3D%3D?line=7'>8</a>\u001b[0m \u001b[39mreturn\u001b[39;00m \u001b[39msum\u001b[39m(alphas[\u001b[39m-\u001b[39m\u001b[39m1\u001b[39m])\n",
      "\u001b[1;32m/Users/aleksygalkowski/Documents/Projects/ucph/social-data-science/2023 sem 3/aml-itu/github-repo/AML-1/w_06/exercise_6_AG_task_4.ipynb Cell 6\u001b[0m line \u001b[0;36m<listcomp>\u001b[0;34m(.0)\u001b[0m\n\u001b[1;32m      <a href='vscode-notebook-cell:/Users/aleksygalkowski/Documents/Projects/ucph/social-data-science/2023%20sem%203/aml-itu/github-repo/AML-1/w_06/exercise_6_AG_task_4.ipynb#W3sZmlsZQ%3D%3D?line=4'>5</a>\u001b[0m         alphas\u001b[39m.\u001b[39mappend([pi[x] \u001b[39m*\u001b[39m B[x][observed\u001b[39m.\u001b[39mindex(o)] \u001b[39mfor\u001b[39;00m x \u001b[39min\u001b[39;00m \u001b[39mrange\u001b[39m(\u001b[39mlen\u001b[39m(hidden))])\n\u001b[1;32m      <a href='vscode-notebook-cell:/Users/aleksygalkowski/Documents/Projects/ucph/social-data-science/2023%20sem%203/aml-itu/github-repo/AML-1/w_06/exercise_6_AG_task_4.ipynb#W3sZmlsZQ%3D%3D?line=5'>6</a>\u001b[0m     \u001b[39melse\u001b[39;00m:\n\u001b[0;32m----> <a href='vscode-notebook-cell:/Users/aleksygalkowski/Documents/Projects/ucph/social-data-science/2023%20sem%203/aml-itu/github-repo/AML-1/w_06/exercise_6_AG_task_4.ipynb#W3sZmlsZQ%3D%3D?line=6'>7</a>\u001b[0m         alphas\u001b[39m.\u001b[39mappend([\u001b[39msum\u001b[39m([alphas[i\u001b[39m-\u001b[39;49m\u001b[39m1\u001b[39;49m][x] \u001b[39m*\u001b[39m A[x][y] \u001b[39mfor\u001b[39;00m x \u001b[39min\u001b[39;00m \u001b[39mrange\u001b[39m(\u001b[39mlen\u001b[39m(hidden))]) \u001b[39m*\u001b[39m B[y][observed\u001b[39m.\u001b[39mindex(o)] \u001b[39mfor\u001b[39;00m y \u001b[39min\u001b[39;00m \u001b[39mrange\u001b[39m(\u001b[39mlen\u001b[39m(hidden))])\n\u001b[1;32m      <a href='vscode-notebook-cell:/Users/aleksygalkowski/Documents/Projects/ucph/social-data-science/2023%20sem%203/aml-itu/github-repo/AML-1/w_06/exercise_6_AG_task_4.ipynb#W3sZmlsZQ%3D%3D?line=7'>8</a>\u001b[0m \u001b[39mreturn\u001b[39;00m \u001b[39msum\u001b[39m(alphas[\u001b[39m-\u001b[39m\u001b[39m1\u001b[39m])\n",
      "\u001b[0;31mIndexError\u001b[0m: list index out of range"
     ]
    }
   ],
   "source": [
    "def HMM_forward_algorithm(O, pi):\n",
    "    for i, o in enumerate(O):\n",
    "        alphas = []\n",
    "        if i == 0:\n",
    "            alphas = [pi[x] * B[x][observed.index(o)] for x in range(len(hidden))]\n",
    "        else:\n",
    "            for state in hidden:\n",
    "                # F\n",
    "                for state2 in hidden:\n",
    "                    # F\n",
    "                    alphas[hidden.index(state)] * A[hidden.index(state)[]]\n",
    "    return sum(alphas[-1])\n",
    "\n",
    "HMM_forward_algorithm(O, pi)"
   ]
  },
  {
   "cell_type": "code",
   "execution_count": null,
   "metadata": {},
   "outputs": [],
   "source": []
  },
  {
   "cell_type": "code",
   "execution_count": null,
   "metadata": {},
   "outputs": [],
   "source": []
  }
 ],
 "metadata": {
  "kernelspec": {
   "display_name": "local-venv-kernel",
   "language": "python",
   "name": "local-venv-kernel"
  },
  "language_info": {
   "codemirror_mode": {
    "name": "ipython",
    "version": 3
   },
   "file_extension": ".py",
   "mimetype": "text/x-python",
   "name": "python",
   "nbconvert_exporter": "python",
   "pygments_lexer": "ipython3",
   "version": "3.9.12"
  },
  "orig_nbformat": 4
 },
 "nbformat": 4,
 "nbformat_minor": 2
}
