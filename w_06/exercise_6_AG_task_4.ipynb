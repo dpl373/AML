{
 "cells": [
  {
   "cell_type": "code",
   "execution_count": 1,
   "metadata": {},
   "outputs": [],
   "source": [
    "import numpy as np"
   ]
  },
  {
   "cell_type": "markdown",
   "metadata": {},
   "source": [
    "### d"
   ]
  },
  {
   "cell_type": "code",
   "execution_count": 8,
   "metadata": {},
   "outputs": [],
   "source": [
    "#hidden states Q\n",
    "hidden = ['F', 'L']\n",
    "\n",
    "#transition matrix A\n",
    "A = np.array([[0.95, 0.05], [0.1, 0.9]])\n",
    "\n",
    "#observed states O\n",
    "observed = [1, 2, 3, 4, 5, 6]\n",
    "\n",
    "#emission matrix B\n",
    "B = np.array([[1/6, 1/6, 1/6, 1/6, 1/6, 1/6], [0.1, 0.1, 0.1, 0.1, 0.1, 0.5]])"
   ]
  },
  {
   "cell_type": "code",
   "execution_count": 16,
   "metadata": {},
   "outputs": [
    {
     "data": {
      "text/plain": [
       "0.0020891203703703697"
      ]
     },
     "execution_count": 16,
     "metadata": {},
     "output_type": "execute_result"
    }
   ],
   "source": [
    "O = [1, 6, 6]\n",
    "Q = ['F', 'F', 'F']\n",
    "pi = [0.5, 0.5]\n",
    "\n",
    "def HMM_probability (O, Q, pi):\n",
    "    probs = 1\n",
    "    for i in reversed(range(len(O))):\n",
    "        prob_o = B[hidden.index(Q[i])][observed.index(O[i])]\n",
    "        probs *= prob_o\n",
    "        if i > 0:\n",
    "            prob_q = A[hidden.index(Q[i-1])][hidden.index(Q[i])]\n",
    "            probs *= prob_q\n",
    "        if i == 0:\n",
    "            prob_q = pi[hidden.index(Q[i])]\n",
    "            probs *= prob_q\n",
    "    return probs\n",
    "\n",
    "HMM_probability(O, Q, pi)"
   ]
  },
  {
   "cell_type": "markdown",
   "metadata": {},
   "source": [
    "### e"
   ]
  },
  {
   "cell_type": "code",
   "execution_count": null,
   "metadata": {},
   "outputs": [],
   "source": [
    "def HMM_forward_algorithm(O, pi):\n",
    "    for i, o in enumerate(O):\n",
    "        alphas = []\n",
    "        if i == 0:\n"
   ]
  }
 ],
 "metadata": {
  "kernelspec": {
   "display_name": "local-venv-kernel",
   "language": "python",
   "name": "local-venv-kernel"
  },
  "language_info": {
   "codemirror_mode": {
    "name": "ipython",
    "version": 3
   },
   "file_extension": ".py",
   "mimetype": "text/x-python",
   "name": "python",
   "nbconvert_exporter": "python",
   "pygments_lexer": "ipython3",
   "version": "3.9.12"
  },
  "orig_nbformat": 4
 },
 "nbformat": 4,
 "nbformat_minor": 2
}
